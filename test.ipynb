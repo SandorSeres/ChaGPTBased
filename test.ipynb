{
 "cells": [
  {
   "cell_type": "code",
   "execution_count": null,
   "metadata": {},
   "outputs": [],
   "source": [
    "#apt install python3-pyaudio\n",
    "%pip install SpeechRecognition PyAudio scrapy"
   ]
  },
  {
   "cell_type": "code",
   "execution_count": null,
   "metadata": {},
   "outputs": [],
   "source": [
    "import speech_recognition as sr\n",
    "\n",
    "# Felismerő objektum létrehozása\n",
    "r = sr.Recognizer()\n",
    "\n",
    "# Mikrofonbemenet beállítása\n",
    "with sr.Microphone() as source:\n",
    "    print(\"Mondj valamit!\")\n",
    "    audio = r.listen(source)\n",
    "\n",
    "# Hangfelismerés\n",
    "try:\n",
    "    text = r.recognize_google_cloud(audio)\n",
    "    print(\"A felismert szöveg: \" + text)\n",
    "except sr.UnknownValueError:\n",
    "    print(\"Nem értem, mit mondtál.\")\n",
    "except sr.RequestError as e:\n",
    "    print(\"Hiba történt a Google Cloud Speech API hívása közben; {0}\".format(e))"
   ]
  },
  {
   "cell_type": "code",
   "execution_count": null,
   "metadata": {},
   "outputs": [],
   "source": [
    "import re\n",
    "\n",
    "text = \"Ez egy szöveg, amiben \\r\\n\\r\\n \\r\\n van \\r\\n \\r\\n\\r\\n sok \\r\\n \\r\\n szóköz.\"\n",
    "\n",
    "pattern = r\"(?<!\\r\\n)\\r\\n(?!\\r\\n)\"\n",
    "text = re.sub(pattern, ' ', text)\n",
    "\n",
    "print(text)"
   ]
  },
  {
   "cell_type": "code",
   "execution_count": null,
   "metadata": {},
   "outputs": [],
   "source": [
    "%pip install b4 googlesearch-python"
   ]
  },
  {
   "cell_type": "code",
   "execution_count": null,
   "metadata": {},
   "outputs": [],
   "source": [
    "import requests\n",
    "from bs4 import BeautifulSoup\n",
    "from googlesearch import search\n",
    "import openai\n",
    "\n",
    "# Google keresési találatok letöltése\n",
    "query = \"felhasználó keresése\"\n",
    "num_of_results = 10\n",
    "search_results = list(search(query, num_results=num_of_results))\n",
    "\n",
    "# Google keresési találatok szöveges tartalmának letöltése\n",
    "text = \"\"\n",
    "for result in search_results:\n",
    "    page = requests.get(result)\n",
    "    soup = BeautifulSoup(page.content, 'html.parser')\n",
    "    for element in soup.find_all(['p', 'h1', 'h2', 'h3']):\n",
    "        text += element.text\n",
    "print(text)\n",
    "# ChatGPT modell használata a legrelevánsabb rész meghatározásához\n",
    "openai.api_key = 'xxxxxxxxxxxxx'\n",
    "prompt = f\"What is the most relevant part of the text for the query '{query}'?\"\n",
    "response = openai.Completion.create(\n",
    "    engine=\"davinci\",\n",
    "    prompt=prompt,\n",
    "    temperature=0.5,\n",
    "    max_tokens=1000,\n",
    "    n=1,\n",
    "    stop=None,\n",
    "    timeout=15,\n",
    "    frequency_penalty=0,\n",
    "    presence_penalty=0\n",
    ")\n",
    "most_relevant_part = response.choices[0].text\n",
    "\n",
    "print(most_relevant_part)"
   ]
  },
  {
   "cell_type": "code",
   "execution_count": null,
   "metadata": {},
   "outputs": [],
   "source": [
    "import requests\n",
    "from bs4 import BeautifulSoup\n",
    "\n",
    "\n",
    "def google_search(query):\n",
    "    headers = {\n",
    "        'User-agent': 'ChatCPT bot 0.1'\n",
    "    }\n",
    "    url = f'https://www.google.com/search?q={query}&num=20'\n",
    "    response = requests.get(url, headers=headers)\n",
    "\n",
    "    soup = BeautifulSoup(response.text, 'html.parser')\n",
    "    search_results = soup.find_all('div', class_='g')\n",
    "    \n",
    "    links = []\n",
    "    for result in search_results:\n",
    "        link = result.find('a').get('href')\n",
    "        if link.startswith('/url?q='):\n",
    "            link = link[7:]\n",
    "            link = link[:link.find('&sa=')]\n",
    "            links.append(link)\n",
    "\n",
    "    return links\n",
    "\n",
    "\n",
    "# Example usage\n",
    "results = google_search('python programming')\n",
    "print(results)"
   ]
  },
  {
   "cell_type": "code",
   "execution_count": 14,
   "metadata": {},
   "outputs": [
    {
     "name": "stderr",
     "output_type": "stream",
     "text": [
      "2023-03-11 12:23:00 [urllib3.connectionpool] DEBUG: Starting new HTTPS connection (1): www.bing.com:443\n",
      "2023-03-11 12:23:00 [urllib3.connectionpool] DEBUG: https://www.bing.com:443 \"GET /search?q=python%20tutorial HTTP/1.1\" 200 None\n"
     ]
    },
    {
     "name": "stdout",
     "output_type": "stream",
     "text": [
      "['#', '/?FORM=Z9FD1', 'javascript:void(0);', 'javascript:void(0);', 'javascript:void(0);', 'javascript:void(0)', '/rewards/dashboard', 'javascript:void(0);', '/search?q=python+tutorial&setlang=en&sid=1E5FFFDFF7BE6E303213ED0EF6A36F18', '/?scope=web&FORM=HDRSC1', 'javascript:void(0)', '/images/search?q=python+tutorial&FORM=HDRSC3', '/videos/search?q=python+tutorial&FORM=HDRSC4', '/maps?q=python+tutorial&FORM=HDRSC6', '/news/search?q=python+tutorial&FORM=HDRSC7', 'javascript:void(0);', '/shop?q=python+tutorial&FORM=SHOPTB', '/travel/search?q=python+tutorial&m=flights&FORM=FBSCOP', '/travel/search?q=python+tutorial&m=travel&FORM=THSCOP', '/travel/search?q=python+tutorial&m=hotels&FORM=HTSCOP', '/rewards/authcheck?ru=%2Fmsrewards%2Fapi%2Fv1%2Fenroll%3Fpubl%3DBINGIP%26crea%3DMY00IA%26pn%3Dbingcopilotwaitlist%26partnerId%3DBingRewards%26pred%3Dtrue%26wtc%3DChatPaywall%26sessionId%3D1E5FFFDFF7BE6E303213ED0EF6A36F18%26ru%3D%252fsearch%253fq%253dpython%252520tutorial%2526scdexwlcs%253d1%2526scdexwlispw%253d1', '/new?form=MY0291&OCID=MY0291', 'https://www.bing.com/new/termsofuse', 'https://privacy.microsoft.com/en-us/privacystatement', 'https://www.w3schools.com/python/', 'https://docs.python.org/3/tutorial/index.html', 'https://www.python.org/about/gettingstarted/', 'https://www.pythontutorial.net/', 'https://www.tutorialspoint.com/python/index.htm', 'https://realpython.com/', 'https://www.learnpython.org/', 'https://www.w3schools.com/python/python_intro.asp', 'https://www.geeksforgeeks.org/python-programming-language/learn-python-tutorial/', 'https://docs.python.org/2/tutorial/', None, '/search?q=python+tutorial&first=11&FORM=PERE', '/search?q=python+tutorial&first=21&FORM=PERE1', '/search?q=python+tutorial&first=31&FORM=PERE2', '/search?q=python+tutorial&first=41&FORM=PERE3', '/search?q=python+tutorial&first=11&FORM=PORE', 'javascript:void(0);', 'javascript: void(0);', 'http://go.microsoft.com/fwlink/?LinkId=521839', 'http://go.microsoft.com/fwlink/?LinkID=246338', 'https://go.microsoft.com/fwlink/?linkid=868922', 'https://support.microsoft.com/topic/82d20721-2d6f-4012-a13d-d1910ccf203f', '#']\n",
      "['https://www.bing.com/new/termsofuse', 'https://privacy.microsoft.com/en-us/privacystatement', 'https://www.w3schools.com/python/', 'https://docs.python.org/3/tutorial/index.html', 'https://www.python.org/about/gettingstarted/', 'https://www.pythontutorial.net/', 'https://www.tutorialspoint.com/python/index.htm', 'https://realpython.com/', 'https://www.learnpython.org/', 'https://www.w3schools.com/python/python_intro.asp', 'https://www.geeksforgeeks.org/python-programming-language/learn-python-tutorial/', 'https://docs.python.org/2/tutorial/', 'http://go.microsoft.com/fwlink/?LinkId=521839', 'http://go.microsoft.com/fwlink/?LinkID=246338', 'https://go.microsoft.com/fwlink/?linkid=868922', 'https://support.microsoft.com/topic/82d20721-2d6f-4012-a13d-d1910ccf203f']\n",
      "https://www.bing.com/new/termsofuse\n",
      "https://privacy.microsoft.com/en-us/privacystatement\n",
      "https://www.w3schools.com/python/\n",
      "https://docs.python.org/3/tutorial/index.html\n",
      "https://www.python.org/about/gettingstarted/\n",
      "https://www.pythontutorial.net/\n",
      "https://www.tutorialspoint.com/python/index.htm\n",
      "https://realpython.com/\n",
      "https://www.learnpython.org/\n",
      "https://www.w3schools.com/python/python_intro.asp\n",
      "https://www.geeksforgeeks.org/python-programming-language/learn-python-tutorial/\n",
      "https://docs.python.org/2/tutorial/\n",
      "http://go.microsoft.com/fwlink/?LinkId=521839\n",
      "http://go.microsoft.com/fwlink/?LinkID=246338\n",
      "https://go.microsoft.com/fwlink/?linkid=868922\n",
      "https://support.microsoft.com/topic/82d20721-2d6f-4012-a13d-d1910ccf203f\n"
     ]
    }
   ],
   "source": [
    "import requests\n",
    "from bs4 import BeautifulSoup\n",
    "\n",
    "# A keresési kulcsszó, amelyet a Bing-en keresünk\n",
    "search_term = 'python tutorial'\n",
    "\n",
    "# A Bing keresőoldalának URL-je, amelyen a keresést végrehajtjuk\n",
    "url = f'https://www.bing.com/search?q={search_term}'\n",
    "\n",
    "# Lekérjük a weboldalt a requests modullal\n",
    "response = requests.get(url)\n",
    "\n",
    "# Az oldal tartalmát a BeautifulSoup modullal feldolgozzuk\n",
    "soup = BeautifulSoup(response.text, 'html.parser')\n",
    "\n",
    "# Az összes link elemet megtaláljuk a BeautifulSoup find_all metódusával\n",
    "# Majd az összes link elem URL-ját kinyerjük a href attribútumából\n",
    "links = [link.get('href') for link in soup.find_all('a')]\n",
    "print(links)\n",
    "# Csak azokat a linkeket tartjuk meg, amelyek valódi URL-ek\n",
    "# és nem belső oldalakra mutató linkek vagy másodlagos tartalomra\n",
    "valid_links = [link for link in links if link != None and link.startswith('http')]\n",
    "print(valid_links)\n",
    "# Kiírjuk a találatok URL-jeit\n",
    "for link in valid_links:\n",
    "    print(link)\n"
   ]
  },
  {
   "cell_type": "code",
   "execution_count": null,
   "metadata": {},
   "outputs": [],
   "source": []
  },
  {
   "cell_type": "code",
   "execution_count": 17,
   "metadata": {},
   "outputs": [
    {
     "name": "stderr",
     "output_type": "stream",
     "text": [
      "2023-03-11 12:34:53 [urllib3.connectionpool] DEBUG: Starting new HTTPS connection (1): www.bing.com:443\n",
      "2023-03-11 12:34:54 [urllib3.connectionpool] DEBUG: https://www.bing.com:443 \"GET /search?q=Ki%20Gerencs%C3%A9r%20Katalin&rdr=1 HTTP/1.1\" 200 None\n"
     ]
    },
    {
     "name": "stdout",
     "output_type": "stream",
     "text": [
      "https://www.facebook.com/drgelencserkatalin/\n",
      "https://www.tudjukki.hu/providers/gerencser-katalin\n",
      "https://telex.hu/belfold/2022/05/09/novak-katalin-koztarsasagi-elnok-stab-schanda-tamas-ekler-gergely\n",
      "https://www.facebook.com/public/Gerencs%C3%A9r-Katalin\n",
      "https://www.origo.hu/tudomany/20190712-parr-katalin-ugyesen-egyensulyozott-viii-henrik-szeszelyei-kozott.html\n",
      "https://hu-hu.facebook.com/gerencser.katalin.5/\n",
      "https://www.blikk.hu/sztarvilag/sztarsztorik/kondor-katalin-a-het-elso-influenszerek-radnai-peter/1qx2n32\n",
      "https://hu.wikipedia.org/wiki/Kar%C3%A1dy_Katalin\n",
      "https://nlc.hu/sztarok/20190627/hosszu-katinka-uj-parja-gelencser-mate/\n",
      "http://www.furedrendelo.hu/gerencserkatalin\n",
      "[{'Title': '', 'link': 'https://www.facebook.com/drgelencserkatalin/', 'Description': 'https://www.facebook.com/drgelencserkatalinDr Gelencsér Katalin házi gyermekorvos, Veszprém. 1,447 likes · 3 were here. Az oldal információkat tartalmaz, nem tanácsadásra és időpont egyeztetésre alkalmazandó!4.9/5 (87)Követők: 1.5e', 'Position': 1}, {'Title': 'Gerencsér Katalin | Könyvelőirodák, Könyvvizsgálat, Könyvelés', 'link': 'https://www.tudjukki.hu/providers/gerencser-katalin', 'Description': 'https://www.tudjukki.hu/providers/gerencser-katalinWebGerencsér Katalin szolgáltatásai: könyvelés, könyvelők, cégalapítás, adótanácsadás, bérszámfejtés, könyvelőirodák, könyvvizsgálat, könyvelési szolgáltatások. Nézd meg …', 'Position': 2}, {'Title': 'Ők lesznek az elnök emberei: kik kerültek be Novák Katalin ... - telex', 'link': 'https://telex.hu/belfold/2022/05/09/novak-katalin-koztarsasagi-elnok-stab-schanda-tamas-ekler-gergely', 'Description': 'https://telex.hu/belfold/2022/05/09/novak-katalin...Ekler Gergely – HivatalvezetőSchanda Tamás – KabinetfőnökAltusz Kristóf – Diplomáciai Ügyekért Felelős munkatársVolf-Nagy Tünde – Kommunikációért Felelős munkatársKun Szabó István – FőhadsegédKreutzer Richárd – Gazdasági vezetőMódos Mátyás – Alkotmányossági és Jogi SzakértőVicze Katalin – AZ Elnöki Titkárság vezetőjeEkler Gergely évek óta Novák Katalin közvetlen munkatársa. 2018-ban kezdték a közös munkát, amikor Novák még csak a család- és ifjúságügyért felelős államtitkár volt, ekkor nevezte ki Eklert kabinetfőnökké és titkárságvezetővé. 2020-ban, mikor Novákból tárca nélküli miniszter lett, Ekler a családokért felelős tárca nélküli mini…Továbbiak megtekintése itt: telex.hu', 'Position': 3}, {'Title': 'Gerencsér Katalin Profiles | Facebook', 'link': 'https://www.facebook.com/public/Gerencs%C3%A9r-Katalin', 'Description': 'https://www.facebook.com/public/Gerencsér-KatalinWebLives in Budapest, Hungary Gerencsér Ferencné Katalin See Photos Works at nyugdíjas vagyok Lives in Balatonfüred Katalin Domjánné Gerencsér See Photos Works at Zrínyi …', 'Position': 4}, {'Title': 'A túlélő királyné, aki képes volt kezelni VIII. Henrik szeszélyeit', 'link': 'https://www.origo.hu/tudomany/20190712-parr-katalin-ugyesen-egyensulyozott-viii-henrik-szeszelyei-kozott.html', 'Description': 'https://www.origo.hu/tudomany/20190712-parr...Web2019. júl. 12.,\\xa0· Parr Katalin 1543. július 12-én, 476 éve esküdött örök hűséget VIII. Henriknek, az angol történelem egyik legkülönlegesebb uralkodójának, aki előtte már öt …', 'Position': 5}, {'Title': 'Gerencsér Katalin - Facebook', 'link': 'https://hu-hu.facebook.com/gerencser.katalin.5/', 'Description': 'https://hu-hu.facebook.com/gerencser.katalin.5WebGerencsér Katalin fent van a Facebookon. A Facebookhoz csatlakozva tarthatod a kapcsolatot Gerencsér Katalin nevű ismerősöddel és másokkal, akiket már ismersz. A …', 'Position': 6}, {'Title': 'A műsorvezető tagadja, hogy valaha III/III-as ügynök lett volna', 'link': 'https://www.blikk.hu/sztarvilag/sztarsztorik/kondor-katalin-a-het-elso-influenszerek-radnai-peter/1qx2n32', 'Description': 'https://www.blikk.hu/sztarvilag/sztarsztorik/kondo...Web2022. ápr. 14.,\\xa0· Kondor Katalin évekig volt a Magyar Televízió és Rádió meghatározó alakja / Fotó: AMC Mikro. A hetvenes-nyolcvanas években Kondor Katalin volt a Magyar …', 'Position': 7}, {'Title': 'Karády Katalin – Wikipédia', 'link': 'https://hu.wikipedia.org/wiki/Kar%C3%A1dy_Katalin', 'Description': 'https://hu.wikipedia.org/wiki/Karády_KatalinWebKarády Katalin: Karády Katalin: Életrajzi adatok: Születési név: Kanczler Katalin Mária: Született: 1910. december 8. Budapest: Elhunyt: 1990. február 7. (79 évesen) New York: …', 'Position': 8}, {'Title': 'Itt van pár infó Hosszú Katinka új szerelméről | nlc', 'link': 'https://nlc.hu/sztarok/20190627/hosszu-katinka-uj-parja-gelencser-mate/', 'Description': 'https://nlc.hu/sztarok/20190627/hosszu-katinka-uj-parja-gelencser-mateWeb2019. jún. 27.,\\xa0· A fiú másfél éve vált el egykori kedvesétől, Katinkáék pedig decemberben írták alá a válási papírokat. Kiderült, Katinka a 30. születésnapján találkozott Mátéval, az …', 'Position': 9}, {'Title': 'SZAKORVOSI RENDELŐINTÉZET', 'link': 'http://www.furedrendelo.hu/gerencserkatalin', 'Description': 'www.furedrendelo.hu/gerencserkatalinWebDR. GERENCSÉR KATALIN Tisztelt Látogatónk! Kérjük, kattintson ide, és figyelmesen olvassa el a koronavírus-járvány miatt bevezetett intézkedésekről szóló tájékoztatót! …', 'Position': 10}]\n"
     ]
    }
   ],
   "source": [
    "import requests\n",
    "from bs4 import BeautifulSoup\n",
    "\n",
    "l=[]\n",
    "o={}\n",
    "\n",
    "target_url=\"https://www.bing.com/search?q=Ki%20Gerencsér%20Katalin&rdr=1\"\n",
    "headers={\"User-Agent\":\"Mozilla/5.0 (Windows NT 10.0; Win64; x64) AppleWebKit/537.36 (KHTML, like Gecko) Chrome/107.0.0.0 Safari/537.36\"}\n",
    "\n",
    "resp=requests.get(target_url,headers=headers)\n",
    "soup = BeautifulSoup(resp.text, 'html.parser')\n",
    "\n",
    "completeData = soup.find_all(\"li\",{\"class\":\"b_algo\"})\n",
    "for i in range(0, len(completeData)):\n",
    "    o[\"Title\"]=completeData[i].find(\"a\").text\n",
    "    o[\"link\"]=completeData[i].find(\"a\").get(\"href\")\n",
    "    o[\"Description\"]=completeData[i].find(\"div\",{\"class\":\"b_caption\"}).text\n",
    "    o[\"Position\"]=i+1\n",
    "    l.append(o)\n",
    "    print(o['link'])\n",
    "    o={}\n",
    "\n",
    "print(l)\n"
   ]
  },
  {
   "cell_type": "code",
   "execution_count": null,
   "metadata": {},
   "outputs": [],
   "source": []
  }
 ],
 "metadata": {
  "kernelspec": {
   "display_name": "Python 3",
   "language": "python",
   "name": "python3"
  },
  "language_info": {
   "codemirror_mode": {
    "name": "ipython",
    "version": 3
   },
   "file_extension": ".py",
   "mimetype": "text/x-python",
   "name": "python",
   "nbconvert_exporter": "python",
   "pygments_lexer": "ipython3",
   "version": "3.8.10 (default, Nov 14 2022, 12:59:47) \n[GCC 9.4.0]"
  },
  "orig_nbformat": 4,
  "vscode": {
   "interpreter": {
    "hash": "31f2aee4e71d21fbe5cf8b01ff0e069b9275f58929596ceb00d14d90e3e16cd6"
   }
  }
 },
 "nbformat": 4,
 "nbformat_minor": 2
}
